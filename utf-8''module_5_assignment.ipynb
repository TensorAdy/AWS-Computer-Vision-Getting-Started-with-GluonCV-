{
 "cells": [
  {
   "cell_type": "markdown",
   "metadata": {
    "deletable": false,
    "editable": false,
    "nbgrader": {
     "cell_type": "markdown",
     "checksum": "0e8091e464a23408ec969c0fd02b3210",
     "grade": false,
     "grade_id": "intro",
     "locked": true,
     "schema_version": 3,
     "solution": false
    }
   },
   "source": [
    "# Graded Assessment\n",
    "\n",
    "In this assessment you will write a full end-to-end training process using gluon and MXNet. We will train the LeNet-5 classifier network on the MNIST dataset. The network will be defined for you but you have to fill in code to prepare the dataset, train the network, and evaluate it's performance on a held out dataset."
   ]
  },
  {
   "cell_type": "code",
   "execution_count": 13,
   "metadata": {},
   "outputs": [],
   "source": [
    "from pathlib import Path\n",
    "from mxnet import gluon, metric, autograd, init, nd\n",
    "import os\n",
    "import mxnet as mx"
   ]
  },
  {
   "cell_type": "code",
   "execution_count": 2,
   "metadata": {},
   "outputs": [],
   "source": [
    "M5_DATA = Path(os.getenv('DATA_DIR', '../../data'), 'module_5')\n",
    "M5_IMAGES = Path(M5_DATA, 'images')"
   ]
  },
  {
   "cell_type": "markdown",
   "metadata": {},
   "source": [
    "---\n",
    "## Question 1\n",
    "\n",
    "### Prepare and the data and construct the dataloader\n",
    "\n",
    "* First, get the MNIST dataset from `gluon.data.vision.datasets`. Use\n",
    "* Don't forget the ToTensor and normalize Transformations. Use `0.13` and `0.31` as the mean and standard deviation respectively\n",
    "* Construct the dataloader with the batch size provide. Ensure that the train_dataloader is shuffled.\n",
    "\n",
    "<font color='red'>**CAUTION!**</font>: Although the notebook interface has internet connectivity, the **autograders are not permitted to access the internet**. We have already downloaded the correct models and data for you to use so you don't need access to the internet. Set the `root` parameter to `M5_IMAGES` when using a preset dataset. Usually, in the real world, you have internet access, so setting the `root` parameter isn't required (and it's set to `~/.mxnet` by default)."
   ]
  },
  {
   "cell_type": "code",
   "execution_count": 7,
   "metadata": {
    "deletable": false,
    "nbgrader": {
     "cell_type": "code",
     "checksum": "76feab6f5d6bfbaea6fb22f1123193db",
     "grade": false,
     "grade_id": "dataloader",
     "locked": false,
     "schema_version": 3,
     "solution": true,
     "task": false
    }
   },
   "outputs": [],
   "source": [
    "import os\n",
    "from pathlib import Path\n",
    "from mxnet.gluon.data.vision import transforms\n",
    "import numpy as np\n",
    "\n",
    "\n",
    "def get_mnist_data(batch=128):\n",
    "    \"\"\"\n",
    "    Should construct a dataloader with the MNIST Dataset with the necessary transforms applied.\n",
    "    \n",
    "    :param batch: batch size for the DataLoader.\n",
    "    :type batch: int\n",
    "    \n",
    "    :return: a tuple of the training and validation DataLoaders\n",
    "    :rtype: (gluon.data.DataLoader, gluon.data.DataLoader)\n",
    "    \"\"\"\n",
    "        \n",
    "    def transformer(data, label):\n",
    "        data = data.flatten().expand_dims(0).astype(np.float32)/255\n",
    "        data = data-0.13/0.31\n",
    "        label = label.astype(np.float32)\n",
    "        return data, label\n",
    "    train_dataset = gluon.data.vision.datasets.MNIST(root=M5_IMAGES, train=True, transform=transformer)\n",
    "    validation_dataset = gluon.data.vision.datasets.MNIST(root=M5_IMAGES, train=False, transform=transformer)\n",
    "    train_dataloader = gluon.data.DataLoader(train_dataset, batch_size=batch, last_batch='keep',shuffle=True)\n",
    "    validation_dataloader = gluon.data.DataLoader(validation_dataset, batch_size=batch, last_batch='keep')\n",
    "    \n",
    "    return train_dataloader, validation_dataloader"
   ]
  },
  {
   "cell_type": "code",
   "execution_count": 8,
   "metadata": {
    "deletable": false,
    "editable": false,
    "nbgrader": {
     "cell_type": "code",
     "checksum": "c387d345f38422234a55e70a4c5be8a5",
     "grade": true,
     "grade_id": "cell-3ec320323b376193",
     "locked": true,
     "points": 3,
     "schema_version": 3,
     "solution": false,
     "task": false
    }
   },
   "outputs": [],
   "source": [
    "t, v = get_mnist_data()\n",
    "assert isinstance(t, gluon.data.DataLoader)\n",
    "assert isinstance(v, gluon.data.DataLoader)\n",
    "\n",
    "d, l = next(iter(t))\n",
    "assert d.shape == (128, 1, 28, 28) #check Channel First and Batch Size\n",
    "assert l.shape == (128,)\n",
    "\n",
    "assert nd.max(d).asscalar() <= 2.9 # check for normalization\n",
    "assert nd.min(d).asscalar() >= -0.5 # check for normalization"
   ]
  },
  {
   "cell_type": "markdown",
   "metadata": {},
   "source": [
    "---\n",
    "\n",
    "## Question 2\n",
    "\n",
    "### Write the training loop\n",
    "\n",
    "* Create the loss function. This should be a loss function suitable for multi-class classification.\n",
    "* Create the metric accumulator. This should the compute and store the accuracy of the model during training\n",
    "* Create the trainer with the `adam` optimizer and learning rate of `0.002`\n",
    "* Write the training loop"
   ]
  },
  {
   "cell_type": "code",
   "execution_count": 9,
   "metadata": {
    "deletable": false,
    "nbgrader": {
     "cell_type": "code",
     "checksum": "8acde078dd45fdcdf1024bf06f2d463a",
     "grade": false,
     "grade_id": "train",
     "locked": false,
     "schema_version": 3,
     "solution": true
    }
   },
   "outputs": [],
   "source": [
    "def train(network, training_dataloader, batch_size, epochs):\n",
    "    \"\"\"\n",
    "    Should take an initialized network and train that network using data from the data loader.\n",
    "    \n",
    "    :param network: initialized gluon network to be trained\n",
    "    :type network: gluon.Block\n",
    "    \n",
    "    :param training_dataloader: the training DataLoader provides batches for data for every iteration\n",
    "    :type training_dataloader: gluon.data.DataLoader\n",
    "    \n",
    "    :param batch_size: batch size for the DataLoader.\n",
    "    :type batch_size: int\n",
    "    \n",
    "    :param epochs: number of epochs to train the DataLoader\n",
    "    :type epochs: int\n",
    "    \n",
    "    :return: tuple of trained network and the final training accuracy\n",
    "    :rtype: (gluon.Block, float)\n",
    "    \"\"\"\n",
    "    \n",
    "    trainer = gluon.Trainer(network.collect_params(), 'adam',\n",
    "                            {'learning_rate': 0.002})\n",
    "    metric = mx.metric.Accuracy()\n",
    "    \n",
    "    for epoch in range(epochs):\n",
    "        train_loss =0.\n",
    "        for data,label in training_dataloader:\n",
    "        \n",
    "#             print (data.shape)\n",
    "#             print (label.shape)\n",
    "            with autograd.record():\n",
    "                output = network(data)\n",
    "                loss=mx.ndarray.softmax_cross_entropy(output,label)\n",
    "            loss.backward()\n",
    "\n",
    "            trainer.step(batch_size)\n",
    "            train_loss += loss.mean().asscalar()\n",
    "            metric.update(label, output)\n",
    "            \n",
    "        print (epoch , metric.get()[1])    \n",
    "        training_accuracy = metric.get()[1]\n",
    "\n",
    "    return network, training_accuracy"
   ]
  },
  {
   "cell_type": "markdown",
   "metadata": {},
   "source": [
    "Let's define and initialize a network to test the train function."
   ]
  },
  {
   "cell_type": "code",
   "execution_count": 10,
   "metadata": {
    "deletable": false,
    "editable": false,
    "nbgrader": {
     "cell_type": "code",
     "checksum": "8abd21a4f3135d1dbcc9be72805ef5cb",
     "grade": false,
     "grade_id": "cell-5dc7b1444f1d3c8d",
     "locked": true,
     "schema_version": 3,
     "solution": false,
     "task": false
    }
   },
   "outputs": [],
   "source": [
    "net = gluon.nn.Sequential()\n",
    "net.add(gluon.nn.Conv2D(channels=6, kernel_size=5, activation='relu'),\n",
    "        gluon.nn.MaxPool2D(pool_size=2, strides=2),\n",
    "        gluon.nn.Conv2D(channels=16, kernel_size=3, activation='relu'),\n",
    "        gluon.nn.MaxPool2D(pool_size=2, strides=2),\n",
    "        gluon.nn.Flatten(),\n",
    "        gluon.nn.Dense(120, activation=\"relu\"),\n",
    "        gluon.nn.Dense(84, activation=\"relu\"),\n",
    "        gluon.nn.Dense(10))\n",
    "net.initialize(init=init.Xavier())"
   ]
  },
  {
   "cell_type": "code",
   "execution_count": 14,
   "metadata": {
    "deletable": false,
    "editable": false,
    "nbgrader": {
     "cell_type": "code",
     "checksum": "2c656d1560729cafad572b40321feb40",
     "grade": true,
     "grade_id": "cell-9d116b0901b24fcc",
     "locked": true,
     "points": 5,
     "schema_version": 3,
     "solution": false,
     "task": false
    }
   },
   "outputs": [
    {
     "name": "stdout",
     "output_type": "stream",
     "text": [
      "0 0.9355333333333333\n",
      "1 0.958475\n",
      "2 0.9679611111111112\n",
      "3 0.9734041666666666\n",
      "4 0.977\n"
     ]
    }
   ],
   "source": [
    "n, ta = train(net, t, 128, 5)\n",
    "assert ta >= .95\n",
    "\n",
    "d, l = next(iter(v))\n",
    "p = (n(d).argmax(axis=1))\n",
    "assert (p.asnumpy() == l.asnumpy()).sum()/128.0 > .95"
   ]
  },
  {
   "cell_type": "markdown",
   "metadata": {},
   "source": [
    "---\n",
    "## Question 3\n",
    "\n",
    "### Write the validation loop\n",
    "\n",
    "* Create the metric accumulator. This should the compute and store the accuracy of the model on the validation set\n",
    "* Write the validation loop"
   ]
  },
  {
   "cell_type": "code",
   "execution_count": 15,
   "metadata": {
    "deletable": false,
    "nbgrader": {
     "cell_type": "code",
     "checksum": "fc0114df7022ddbc77032c1906e5152b",
     "grade": false,
     "grade_id": "sum_of_squares_application",
     "locked": false,
     "schema_version": 3,
     "solution": true,
     "task": false
    }
   },
   "outputs": [],
   "source": [
    "def validate(network, validation_dataloader):\n",
    "    \"\"\"\n",
    "    Should compute the accuracy of the network on the validation set.\n",
    "    \n",
    "    :param network: initialized gluon network to be trained\n",
    "    :type network: gluon.Block\n",
    "    \n",
    "    :param validation_dataloader: the training DataLoader provides batches for data for every iteration\n",
    "    :type validation_dataloader: gluon.data.DataLoader\n",
    "    \n",
    "    :return: validation accuracy\n",
    "    :rtype: float\n",
    "    \"\"\"\n",
    "    \n",
    "    val_acc = mx.metric.Accuracy()\n",
    "    for data,label in validation_dataloader:\n",
    "        output = network(data)\n",
    "        val_acc.update(label,output)\n",
    "    print (val_acc.get()[1])\n",
    "    return val_acc.get()[1]\n",
    "    return validation_accuracy"
   ]
  },
  {
   "cell_type": "code",
   "execution_count": 16,
   "metadata": {
    "deletable": false,
    "editable": false,
    "nbgrader": {
     "cell_type": "code",
     "checksum": "19f3df97df6a26277d48eb1baf703a45",
     "grade": true,
     "grade_id": "cell-5a2130f381810258",
     "locked": true,
     "points": 2,
     "schema_version": 3,
     "solution": false,
     "task": false
    }
   },
   "outputs": [
    {
     "name": "stdout",
     "output_type": "stream",
     "text": [
      "0.9899\n"
     ]
    }
   ],
   "source": [
    "assert validate(n, v) > .95"
   ]
  },
  {
   "cell_type": "code",
   "execution_count": null,
   "metadata": {},
   "outputs": [],
   "source": []
  }
 ],
 "metadata": {
  "coursera": {
   "assignment_name": "module_5",
   "assignment_version": 2,
   "course_slug": "aws-computer-vision-gluoncv",
   "graded_item_id": "41Qtj",
   "launcher_item_id": "Xfrqm"
  },
  "kernelspec": {
   "display_name": "Python 3",
   "language": "python",
   "name": "python3"
  },
  "language_info": {
   "codemirror_mode": {
    "name": "ipython",
    "version": 3
   },
   "file_extension": ".py",
   "mimetype": "text/x-python",
   "name": "python",
   "nbconvert_exporter": "python",
   "pygments_lexer": "ipython3",
   "version": "3.7.3"
  }
 },
 "nbformat": 4,
 "nbformat_minor": 1
}
